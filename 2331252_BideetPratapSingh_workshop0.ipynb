{
  "nbformat": 4,
  "nbformat_minor": 0,
  "metadata": {
    "colab": {
      "provenance": []
    },
    "kernelspec": {
      "name": "python3",
      "display_name": "Python 3"
    },
    "language_info": {
      "name": "python"
    }
  },
  "cells": [
    {
      "cell_type": "markdown",
      "source": [
        "## 4.1"
      ],
      "metadata": {
        "id": "e8gfvSrkilPT"
      }
    },
    {
      "cell_type": "markdown",
      "source": [
        "### Task 1"
      ],
      "metadata": {
        "id": "TzIw-s31wBqI"
      }
    },
    {
      "cell_type": "code",
      "execution_count": 6,
      "metadata": {
        "colab": {
          "base_uri": "https://localhost:8080/"
        },
        "id": "diZoiJn6ebiY",
        "outputId": "7e4fa0da-967c-44c9-e259-b318e384bb8d"
      },
      "outputs": [
        {
          "output_type": "stream",
          "name": "stdout",
          "text": [
            "Unit Converter\n",
            "1. Length (Meters to Feet / Feet to Meters)\n",
            "2. Weight (Kilograms to Pounds / Pounds to Kilograms)\n",
            "3. Volume (Liters to Gallons / Gallons to Liters)\n",
            "Select conversion type (1-3): 3\n",
            "Enter the value to convert: 3\n",
            "Enter 'L_to_gal' for liters to gallons or 'gal_to_L' for gallons to liters: gal_to_L\n",
            "Converted value: 11.3562\n"
          ]
        }
      ],
      "source": [
        "def convert_length(value, unit):\n",
        "    \"\"\"\n",
        "    Converts length between meters and feet.\n",
        "    :param value: float, the numeric value to convert.\n",
        "    :param unit: str, 'm_to_ft' for meters to feet, 'ft_to_m' for feet to meters.\n",
        "    :return: float, converted value.\n",
        "    \"\"\"\n",
        "    if unit == 'm_to_ft':\n",
        "        return value * 3.28084\n",
        "    elif unit == 'ft_to_m':\n",
        "        return value / 3.28084\n",
        "    else:\n",
        "        raise ValueError(\"Invalid unit for length conversion.\")\n",
        "\n",
        "def convert_weight(value, unit):\n",
        "    \"\"\"\n",
        "    Converts weight between kilograms and pounds.\n",
        "    :param value: float, the numeric value to convert.\n",
        "    :param unit: str, 'kg_to_lbs' for kg to lbs, 'lbs_to_kg' for lbs to kg.\n",
        "    :return: float, converted value.\n",
        "    \"\"\"\n",
        "    if unit == 'kg_to_lbs':\n",
        "        return value * 2.20462\n",
        "    elif unit == 'lbs_to_kg':\n",
        "        return value / 2.20462\n",
        "    else:\n",
        "        raise ValueError(\"Invalid unit for weight conversion.\")\n",
        "\n",
        "def convert_volume(value, unit):\n",
        "    \"\"\"\n",
        "    Converts volume between liters and gallons.\n",
        "    :param value: float, the numeric value to convert.\n",
        "    :param unit: str, 'L_to_gal' for liters to gallons, 'gal_to_L' for gallons to liters.\n",
        "    :return: float, converted value.\n",
        "    \"\"\"\n",
        "    if unit == 'L_to_gal':\n",
        "        return value * 0.264172\n",
        "    elif unit == 'gal_to_L':\n",
        "        return value / 0.264172\n",
        "    else:\n",
        "        raise ValueError(\"Invalid unit for volume conversion.\")\n",
        "\n",
        "def main():\n",
        "    print(\"Unit Converter\")\n",
        "    print(\"1. Length (Meters to Feet / Feet to Meters)\")\n",
        "    print(\"2. Weight (Kilograms to Pounds / Pounds to Kilograms)\")\n",
        "    print(\"3. Volume (Liters to Gallons / Gallons to Liters)\")\n",
        "\n",
        "    try:\n",
        "        choice = int(input(\"Select conversion type (1-3): \"))\n",
        "        value = float(input(\"Enter the value to convert: \"))\n",
        "\n",
        "        if choice == 1:\n",
        "            unit = input(\"Enter 'm_to_ft' for meters to feet or 'ft_to_m' for feet to meters: \")\n",
        "            result = convert_length(value, unit)\n",
        "        elif choice == 2:\n",
        "            unit = input(\"Enter 'kg_to_lbs' for kg to lbs or 'lbs_to_kg' for lbs to kg: \")\n",
        "            result = convert_weight(value, unit)\n",
        "        elif choice == 3:\n",
        "            unit = input(\"Enter 'L_to_gal' for liters to gallons or 'gal_to_L' for gallons to liters: \")\n",
        "            result = convert_volume(value, unit)\n",
        "        else:\n",
        "            print(\"Invalid choice.\")\n",
        "            return\n",
        "\n",
        "        print(f\"Converted value: {result:.4f}\")\n",
        "    except ValueError as e:\n",
        "        print(f\"Error: {e}\")\n",
        "    except Exception:\n",
        "        print(\"An unexpected error occurred.\")\n",
        "\n",
        "if __name__ == \"__main__\":\n",
        "    main()\n"
      ]
    },
    {
      "cell_type": "markdown",
      "source": [
        "### Task 2"
      ],
      "metadata": {
        "id": "Suv9JcDgwELK"
      }
    },
    {
      "cell_type": "code",
      "source": [
        "def calculate_sum(numbers):\n",
        "    \"\"\"\n",
        "    Calculates the sum of a list of numbers.\n",
        "    :param numbers: list of floats.\n",
        "    :return: float, sum of numbers.\n",
        "    \"\"\"\n",
        "    return sum(numbers)\n",
        "\n",
        "def calculate_average(numbers):\n",
        "    \"\"\"\n",
        "    Calculates the average of a list of numbers.\n",
        "    :param numbers: list of floats.\n",
        "    :return: float, average of numbers.\n",
        "    \"\"\"\n",
        "    return sum(numbers) / len(numbers) if numbers else 0\n",
        "\n",
        "def find_maximum(numbers):\n",
        "    \"\"\"\n",
        "    Finds the maximum number in a list.\n",
        "    :param numbers: list of floats.\n",
        "    :return: float, maximum number.\n",
        "    \"\"\"\n",
        "    return max(numbers)\n",
        "\n",
        "def find_minimum(numbers):\n",
        "    \"\"\"\n",
        "    Finds the minimum number in a list.\n",
        "    :param numbers: list of floats.\n",
        "    :return: float, minimum number.\n",
        "    \"\"\"\n",
        "    return min(numbers)\n",
        "\n",
        "def main_math_operations():\n",
        "    print(\"Mathematical Operations\")\n",
        "    try:\n",
        "        numbers = input(\"Enter a list of numbers separated by spaces: \").split()\n",
        "        numbers = [float(num) for num in numbers]\n",
        "        print(\"Choose an operation: sum, average, max, min\")\n",
        "        operation = input(\"Enter operation: \").strip().lower()\n",
        "\n",
        "        if operation == \"sum\":\n",
        "            print(f\"Sum: {calculate_sum(numbers)}\")\n",
        "        elif operation == \"average\":\n",
        "            print(f\"Average: {calculate_average(numbers)}\")\n",
        "        elif operation == \"max\":\n",
        "            print(f\"Maximum: {find_maximum(numbers)}\")\n",
        "        elif operation == \"min\":\n",
        "            print(f\"Minimum: {find_minimum(numbers)}\")\n",
        "        else:\n",
        "            print(\"Invalid operation.\")\n",
        "    except ValueError:\n",
        "        print(\"Invalid input. Please enter numbers only.\")\n",
        "    except Exception:\n",
        "        print(\"An unexpected error occurred.\")\n",
        "\n",
        "def main():\n",
        "    main_math_operations()\n",
        "\n",
        "if __name__ == \"__main__\":\n",
        "    main()"
      ],
      "metadata": {
        "colab": {
          "base_uri": "https://localhost:8080/"
        },
        "id": "ubUa4FurgnnP",
        "outputId": "a7d26dac-d3ef-490c-98c6-f0e0af50b685"
      },
      "execution_count": 7,
      "outputs": [
        {
          "output_type": "stream",
          "name": "stdout",
          "text": [
            "Mathematical Operations\n",
            "Enter a list of numbers separated by spaces: 1 2 34 5 6 76 32 9 81 22 45\n",
            "Choose an operation: sum, average, max, min\n",
            "Enter operation: sum\n",
            "Sum: 313.0\n"
          ]
        }
      ]
    },
    {
      "cell_type": "markdown",
      "source": [
        "## 4.2"
      ],
      "metadata": {
        "id": "M6mNC6_nkdpG"
      }
    },
    {
      "cell_type": "code",
      "source": [
        "# 1\n",
        "def extract_every_other(lst):\n",
        "    result = []\n",
        "    for i in range(0, len(lst), 2):\n",
        "        result.append(lst[i])\n",
        "    return result\n",
        "\n",
        "input_list = [1, 2, 3, 4, 5, 6]\n",
        "output_list = extract_every_other(input_list)\n",
        "print(output_list)"
      ],
      "metadata": {
        "colab": {
          "base_uri": "https://localhost:8080/"
        },
        "id": "aww4l1EYkZLR",
        "outputId": "042addd8-5e9f-4b8a-94b6-b81e9f484f55"
      },
      "execution_count": 10,
      "outputs": [
        {
          "output_type": "stream",
          "name": "stdout",
          "text": [
            "[1, 3, 5]\n"
          ]
        }
      ]
    },
    {
      "cell_type": "code",
      "source": [
        "# 2\n",
        "def get_sublist(lst, start, end):\n",
        "    result = []\n",
        "    for i in range(start, end):\n",
        "        result.append(lst[i])\n",
        "    return result\n",
        "\n",
        "input_list = [1, 2, 3, 4, 5, 6]\n",
        "sublist = get_sublist(input_list, 2, 5)\n",
        "print(sublist)"
      ],
      "metadata": {
        "colab": {
          "base_uri": "https://localhost:8080/"
        },
        "id": "Hp0-3gKLlVVw",
        "outputId": "d22b193a-6164-48c4-9be0-7d1a18b04157"
      },
      "execution_count": 14,
      "outputs": [
        {
          "output_type": "stream",
          "name": "stdout",
          "text": [
            "[3, 4, 5]\n"
          ]
        }
      ]
    },
    {
      "cell_type": "code",
      "source": [
        "# 3\n",
        "def reverse_list(lst):\n",
        "    return lst[::-1]\n",
        "\n",
        "input_list = [1, 2, 3, 4, 5]\n",
        "reversed_list = reverse_list(input_list)\n",
        "# print(reversed_list)"
      ],
      "metadata": {
        "colab": {
          "base_uri": "https://localhost:8080/"
        },
        "id": "9R2rfktGl8Or",
        "outputId": "bf02ea35-1a37-45be-b9cd-4cc4b609e260"
      },
      "execution_count": 18,
      "outputs": [
        {
          "output_type": "stream",
          "name": "stdout",
          "text": [
            "[5, 4, 3, 2, 1]\n"
          ]
        }
      ]
    },
    {
      "cell_type": "code",
      "source": [
        "# 4\n",
        "def remove_first_last(lst):\n",
        "    return lst[1:-1]\n",
        "\n",
        "input_list = [1, 2, 3, 4, 5, 6]\n",
        "result_list = remove_first_last(input_list)\n",
        "print(result_list)"
      ],
      "metadata": {
        "colab": {
          "base_uri": "https://localhost:8080/"
        },
        "id": "rcLHdN_0mZr-",
        "outputId": "6cc97c8b-906e-438c-a859-a2a18b3adb60"
      },
      "execution_count": 20,
      "outputs": [
        {
          "output_type": "stream",
          "name": "stdout",
          "text": [
            "[2, 3, 4, 5]\n"
          ]
        }
      ]
    },
    {
      "cell_type": "code",
      "source": [
        "# 5\n",
        "def get_first_n(lst, n):\n",
        "    return lst[:n]\n",
        "\n",
        "input_list = [1, 2, 3, 4, 5, 6, 7]\n",
        "n = 4\n",
        "result_list = get_first_n(input_list, n)\n",
        "print(result_list)\n"
      ],
      "metadata": {
        "colab": {
          "base_uri": "https://localhost:8080/"
        },
        "id": "V1M_rj3inOsX",
        "outputId": "275bc236-54ac-4d14-da62-48095cb11ce1"
      },
      "execution_count": 23,
      "outputs": [
        {
          "output_type": "stream",
          "name": "stdout",
          "text": [
            "[1, 2, 3, 4]\n"
          ]
        }
      ]
    },
    {
      "cell_type": "code",
      "source": [
        "# 6\n",
        "def get_last_n(lst, n):\n",
        "    return lst[-n:]\n",
        "\n",
        "input_list = [1, 2, 3, 4, 5]\n",
        "n = 2\n",
        "result_list = get_last_n(input_list, n)\n",
        "print(result_list)"
      ],
      "metadata": {
        "colab": {
          "base_uri": "https://localhost:8080/"
        },
        "id": "Dm3o1nkDnsnM",
        "outputId": "0634dad3-81fb-499a-c361-323acac831f3"
      },
      "execution_count": 24,
      "outputs": [
        {
          "output_type": "stream",
          "name": "stdout",
          "text": [
            "[4, 5]\n"
          ]
        }
      ]
    },
    {
      "cell_type": "code",
      "source": [
        "# 7\n",
        "def reverse_skip(lst):\n",
        "    result = []\n",
        "    for i in range(len(lst) - 2, -1, -2):\n",
        "        result.append(lst[i])\n",
        "    return result\n",
        "\n",
        "input_list = [1, 2, 3, 4, 5, 6]\n",
        "result_list = reverse_skip(input_list)\n",
        "print(result_list)"
      ],
      "metadata": {
        "colab": {
          "base_uri": "https://localhost:8080/"
        },
        "id": "4UYfxBkin4sr",
        "outputId": "90517d55-720d-4edd-db81-2ee483d9aa6e"
      },
      "execution_count": 27,
      "outputs": [
        {
          "output_type": "stream",
          "name": "stdout",
          "text": [
            "[5, 3, 1]\n"
          ]
        }
      ]
    },
    {
      "cell_type": "markdown",
      "source": [
        "## 4.3"
      ],
      "metadata": {
        "id": "RLGEFFFZoqYZ"
      }
    },
    {
      "cell_type": "code",
      "source": [
        "# 1\n",
        "def flatten(lst):\n",
        "    result = []\n",
        "    for sublist in lst:\n",
        "        for item in sublist:\n",
        "            result.append(item)\n",
        "    return result\n",
        "\n",
        "input_list = [[1, 2], [3, 4], [5]]\n",
        "flattened_list = flatten(input_list)\n",
        "print(flattened_list)"
      ],
      "metadata": {
        "colab": {
          "base_uri": "https://localhost:8080/"
        },
        "id": "Wzruug43oHQb",
        "outputId": "fabf4242-bdbc-49e4-e5e1-b07aac755e50"
      },
      "execution_count": 28,
      "outputs": [
        {
          "output_type": "stream",
          "name": "stdout",
          "text": [
            "[1, 2, 3, 4, 5]\n"
          ]
        }
      ]
    },
    {
      "cell_type": "code",
      "source": [
        "# 2\n",
        "def access_nested_element(lst, indices):\n",
        "    element = lst\n",
        "    for index in indices:\n",
        "        element = element[index]\n",
        "    return element\n",
        "\n",
        "lst = [[1, 2, 3], [4, 5, 6], [7, 8, 9]]\n",
        "indices = [1, 2]\n",
        "result = access_nested_element(lst, indices)\n",
        "print(result)"
      ],
      "metadata": {
        "colab": {
          "base_uri": "https://localhost:8080/"
        },
        "id": "-lcJ0WZ3qjws",
        "outputId": "8cda4351-057c-4974-c403-77d6d6580c37"
      },
      "execution_count": 30,
      "outputs": [
        {
          "output_type": "stream",
          "name": "stdout",
          "text": [
            "6\n"
          ]
        }
      ]
    },
    {
      "cell_type": "code",
      "source": [
        "# 3\n",
        "def sum_nested(lst):\n",
        "    total = 0\n",
        "    for element in lst:\n",
        "        if isinstance(element, list):\n",
        "            total += sum_nested(element)\n",
        "        else:\n",
        "            total += element\n",
        "    return total\n",
        "\n",
        "input_list = [[1, 2], [3, [4, 5]], 6]\n",
        "result = sum_nested(input_list)\n",
        "print(result)"
      ],
      "metadata": {
        "colab": {
          "base_uri": "https://localhost:8080/"
        },
        "id": "8siHcGW6q8tq",
        "outputId": "ad13ff72-d8c3-4287-f824-a9285e1bb0dc"
      },
      "execution_count": 31,
      "outputs": [
        {
          "output_type": "stream",
          "name": "stdout",
          "text": [
            "21\n"
          ]
        }
      ]
    },
    {
      "cell_type": "code",
      "source": [
        "# 4\n",
        "def remove_element(lst, elem):\n",
        "    for i in range(len(lst)):\n",
        "        if isinstance(lst[i], list):\n",
        "            lst[i] = remove_element(lst[i], elem)\n",
        "        elif elem == lst[i]:\n",
        "            lst.pop(i)\n",
        "            return remove_element(lst, elem)\n",
        "    return lst\n",
        "\n",
        "input_list = [[1, 2], [3, 2], [4, 5]]\n",
        "elem_to_remove = 2\n",
        "result = remove_element(input_list, elem_to_remove)\n",
        "print(result)"
      ],
      "metadata": {
        "colab": {
          "base_uri": "https://localhost:8080/"
        },
        "id": "mJgUPMrmrIqb",
        "outputId": "bcfb9aef-2cb4-4166-b08e-bbf529dd3ed9"
      },
      "execution_count": 34,
      "outputs": [
        {
          "output_type": "stream",
          "name": "stdout",
          "text": [
            "[[1], [3], [4, 5]]\n"
          ]
        }
      ]
    },
    {
      "cell_type": "code",
      "source": [
        "# 5\n",
        "def find_max(lst):\n",
        "    max_elem = 0\n",
        "\n",
        "    for element in lst:\n",
        "        if isinstance(element, list):\n",
        "            max_elem = max(max_elem, find_max(element))\n",
        "        else:\n",
        "            max_elem = max(max_elem, element)\n",
        "\n",
        "    return max_elem\n",
        "\n",
        "input_list = [[1, 2], [3, [4, 5]], 6]\n",
        "result = find_max(input_list)\n",
        "print(result)"
      ],
      "metadata": {
        "colab": {
          "base_uri": "https://localhost:8080/"
        },
        "id": "S-bngfixrjdb",
        "outputId": "eb691a6d-81b0-46b2-dfc2-064d7e06f86e"
      },
      "execution_count": 38,
      "outputs": [
        {
          "output_type": "stream",
          "name": "stdout",
          "text": [
            "6\n"
          ]
        }
      ]
    },
    {
      "cell_type": "code",
      "source": [
        "# 6\n",
        "def count_occurrences(lst, elem):\n",
        "    count = 0\n",
        "\n",
        "    for item in lst:\n",
        "        if isinstance(item, list):\n",
        "            count += count_occurrences(item, elem)\n",
        "        elif item == elem:\n",
        "            count += 1\n",
        "\n",
        "    return count\n",
        "\n",
        "input_list = [[1, 2], [2, 3], [2, 4]]\n",
        "elem_to_count = 2\n",
        "result = count_occurrences(input_list, elem_to_count)\n",
        "print(result)"
      ],
      "metadata": {
        "colab": {
          "base_uri": "https://localhost:8080/"
        },
        "id": "BRfiuGwpsUH0",
        "outputId": "7f0682cb-58c3-4100-971c-964f36d5480d"
      },
      "execution_count": 42,
      "outputs": [
        {
          "output_type": "stream",
          "name": "stdout",
          "text": [
            "3\n"
          ]
        }
      ]
    },
    {
      "cell_type": "code",
      "source": [
        "# 7\n",
        "def deep_flatten(lst):\n",
        "    flat_list = []\n",
        "\n",
        "    for item in lst:\n",
        "        if isinstance(item, list):\n",
        "            flat_list.extend(deep_flatten(item))\n",
        "        else:\n",
        "            flat_list.append(item)\n",
        "\n",
        "    return flat_list\n",
        "\n",
        "input_list = [[[1, 2], [3, 4]], [[5, 6], [7, 8]]]\n",
        "result = deep_flatten(input_list)\n",
        "print(result)"
      ],
      "metadata": {
        "colab": {
          "base_uri": "https://localhost:8080/"
        },
        "id": "eZeMRwaes1ku",
        "outputId": "40d36bbe-87c3-4b4c-f45f-4ac47b11827c"
      },
      "execution_count": 45,
      "outputs": [
        {
          "output_type": "stream",
          "name": "stdout",
          "text": [
            "[1, 2, 3, 4, 5, 6, 7, 8]\n"
          ]
        }
      ]
    },
    {
      "cell_type": "code",
      "source": [
        "# 8\n",
        "def average_nested(lst):\n",
        "    total_sum = 0\n",
        "    total_count = 0\n",
        "\n",
        "    def flatten(lst):\n",
        "        nonlocal total_sum, total_count\n",
        "        for item in lst:\n",
        "            if isinstance(item, list):\n",
        "                flatten(item)\n",
        "            else:\n",
        "                total_sum += item\n",
        "                total_count += 1\n",
        "\n",
        "    flatten(lst)\n",
        "    return total_sum / total_count if total_count != 0 else 0\n",
        "\n",
        "input_list = [[1, 2], [3, 4], [5, 6]]\n",
        "result = average_nested(input_list)\n",
        "print(result)"
      ],
      "metadata": {
        "colab": {
          "base_uri": "https://localhost:8080/"
        },
        "id": "UUmMZiRTtEBU",
        "outputId": "255eb7d6-74ec-4013-ccec-2b31103fbe9f"
      },
      "execution_count": 47,
      "outputs": [
        {
          "output_type": "stream",
          "name": "stdout",
          "text": [
            "3.5\n"
          ]
        }
      ]
    },
    {
      "cell_type": "markdown",
      "source": [
        "## 10.1"
      ],
      "metadata": {
        "id": "c0wTNHYntjaO"
      }
    },
    {
      "cell_type": "markdown",
      "source": [
        "### Problem - 1"
      ],
      "metadata": {
        "id": "9HiFbiSKvx_a"
      }
    },
    {
      "cell_type": "code",
      "source": [
        "import numpy as np\n",
        "\n",
        "# Task 1: Initialize an empty array with size 2x2\n",
        "empty_array = np.empty((2, 2))\n",
        "print(\"Empty array (2x2):\")\n",
        "print(empty_array)\n",
        "\n",
        "# Task 2: Initialize an all one array with size 4x2\n",
        "ones_array = np.ones((4, 2))\n",
        "print(\"\\nArray of ones (4x2):\")\n",
        "print(ones_array)\n",
        "\n",
        "# Task 3: Return a new array of given shape and type, filled with fill value\n",
        "shape = (3, 3)\n",
        "fill_value = 7\n",
        "filled_array = np.full(shape, fill_value)\n",
        "print(\"\\nArray filled with value 7 (3x3):\")\n",
        "print(filled_array)\n",
        "\n",
        "# Task 4: Return a new array of zeros with same shape and type as a given array\n",
        "existing_array = np.array([1, 2, 3, 4])  # Existing array\n",
        "zeros_array = np.zeros_like(existing_array)\n",
        "print(\"\\nArray of zeros with the same shape and type as existing array:\")\n",
        "print(zeros_array)\n",
        "\n",
        "# Task 5: Return a new array of ones with same shape and type as a given array\n",
        "ones_like_array = np.ones_like(existing_array)\n",
        "print(\"\\nArray of ones with the same shape and type as existing array:\")\n",
        "print(ones_like_array)\n",
        "\n",
        "# Task 6: Convert an existing list to a NumPy array\n",
        "new_list = [1, 2, 3, 4]\n",
        "array_from_list = np.array(new_list)\n",
        "print(\"\\nNumPy array from list [1, 2, 3, 4]:\")\n",
        "print(array_from_list)\n"
      ],
      "metadata": {
        "colab": {
          "base_uri": "https://localhost:8080/"
        },
        "id": "Htwp7wJXtUbS",
        "outputId": "a00d2ce5-7800-4e37-9d7a-902bbcd98df1"
      },
      "execution_count": 48,
      "outputs": [
        {
          "output_type": "stream",
          "name": "stdout",
          "text": [
            "Empty array (2x2):\n",
            "[[1.1852152e-316 0.0000000e+000]\n",
            " [0.0000000e+000 0.0000000e+000]]\n",
            "\n",
            "Array of ones (4x2):\n",
            "[[1. 1.]\n",
            " [1. 1.]\n",
            " [1. 1.]\n",
            " [1. 1.]]\n",
            "\n",
            "Array filled with value 7 (3x3):\n",
            "[[7 7 7]\n",
            " [7 7 7]\n",
            " [7 7 7]]\n",
            "\n",
            "Array of zeros with the same shape and type as existing array:\n",
            "[0 0 0 0]\n",
            "\n",
            "Array of ones with the same shape and type as existing array:\n",
            "[1 1 1 1]\n",
            "\n",
            "NumPy array from list [1, 2, 3, 4]:\n",
            "[1 2 3 4]\n"
          ]
        }
      ]
    },
    {
      "cell_type": "markdown",
      "source": [
        "### Problem - 2"
      ],
      "metadata": {
        "id": "9OFT-WR6v17A"
      }
    },
    {
      "cell_type": "code",
      "source": [
        "import numpy as np\n",
        "\n",
        "# Task 1: Create an array with values ranging from 10 to 49\n",
        "array_10_to_49 = np.arange(10, 50)\n",
        "print(\"Array from 10 to 49:\")\n",
        "print(array_10_to_49)"
      ],
      "metadata": {
        "colab": {
          "base_uri": "https://localhost:8080/"
        },
        "id": "bfU1EWLKuUjq",
        "outputId": "8d1129bc-bbcf-4c86-d27f-02751f83ad0b"
      },
      "execution_count": 63,
      "outputs": [
        {
          "output_type": "stream",
          "name": "stdout",
          "text": [
            "Array from 10 to 49:\n",
            "[10 11 12 13 14 15 16 17 18 19 20 21 22 23 24 25 26 27 28 29 30 31 32 33\n",
            " 34 35 36 37 38 39 40 41 42 43 44 45 46 47 48 49]\n"
          ]
        }
      ]
    },
    {
      "cell_type": "code",
      "source": [
        "# Task 2: Create a 3x3 matrix with values ranging from 0 to 8\n",
        "matrix_3x3 = np.arange(9).reshape(3, 3)\n",
        "print(\"\\n3x3 matrix with values from 0 to 8:\")\n",
        "print(matrix_3x3)"
      ],
      "metadata": {
        "colab": {
          "base_uri": "https://localhost:8080/"
        },
        "id": "AaBeSclFuxnh",
        "outputId": "f40c00d7-c947-41a0-b2a0-ca4254aa6773"
      },
      "execution_count": 64,
      "outputs": [
        {
          "output_type": "stream",
          "name": "stdout",
          "text": [
            "\n",
            "3x3 matrix with values from 0 to 8:\n",
            "[[0 1 2]\n",
            " [3 4 5]\n",
            " [6 7 8]]\n"
          ]
        }
      ]
    },
    {
      "cell_type": "code",
      "source": [
        "# Task 3: Create a 3x3 identity matrix\n",
        "identity_matrix = np.eye(3)\n",
        "print(\"\\n3x3 identity matrix:\")\n",
        "print(identity_matrix)"
      ],
      "metadata": {
        "colab": {
          "base_uri": "https://localhost:8080/"
        },
        "id": "y-kVOXrKuypH",
        "outputId": "3d5e6a0f-5890-4928-c99b-bb3d8972cce6"
      },
      "execution_count": 65,
      "outputs": [
        {
          "output_type": "stream",
          "name": "stdout",
          "text": [
            "\n",
            "3x3 identity matrix:\n",
            "[[1. 0. 0.]\n",
            " [0. 1. 0.]\n",
            " [0. 0. 1.]]\n"
          ]
        }
      ]
    },
    {
      "cell_type": "code",
      "source": [
        "# Task 4: Create a random array of size 30 and find the mean of the array\n",
        "random_array = np.random.random(30)\n",
        "mean_value = random_array.mean()\n",
        "print(\"\\nRandom array of size 30:\")\n",
        "print(random_array)\n",
        "print(\"Mean of the random array:\", mean_value)"
      ],
      "metadata": {
        "colab": {
          "base_uri": "https://localhost:8080/"
        },
        "id": "44PWZJP6uy41",
        "outputId": "2c42b5b8-6ae3-4d18-bf92-d5fdbb3397c2"
      },
      "execution_count": 66,
      "outputs": [
        {
          "output_type": "stream",
          "name": "stdout",
          "text": [
            "\n",
            "Random array of size 30:\n",
            "[0.83724189 0.65379884 0.34089264 0.79832932 0.78620985 0.66649242\n",
            " 0.94624002 0.21671648 0.77026657 0.76055251 0.33432819 0.07094991\n",
            " 0.83209743 0.20562835 0.9515489  0.04185155 0.19788873 0.06550579\n",
            " 0.04921626 0.28712883 0.8212101  0.50902998 0.12035884 0.11620666\n",
            " 0.0415786  0.08900972 0.29210989 0.02733537 0.51819799 0.0826557 ]\n",
            "Mean of the random array: 0.4143525785663581\n"
          ]
        }
      ]
    },
    {
      "cell_type": "code",
      "source": [
        "# Task 5: Create a 10x10 array with random values and find the minimum and maximum values\n",
        "random_10x10 = np.random.random((10, 10))\n",
        "min_value = random_10x10.min()\n",
        "max_value = random_10x10.max()\n",
        "print(\"\\n10x10 array with random values:\")\n",
        "print(random_10x10)\n",
        "print(\"Minimum value:\", min_value)\n",
        "print(\"Maximum value:\", max_value)"
      ],
      "metadata": {
        "colab": {
          "base_uri": "https://localhost:8080/"
        },
        "id": "jvMFEvRWuzBj",
        "outputId": "6ae9c9dc-3d33-4b8f-a610-bf26c9c05a66"
      },
      "execution_count": 67,
      "outputs": [
        {
          "output_type": "stream",
          "name": "stdout",
          "text": [
            "\n",
            "10x10 array with random values:\n",
            "[[0.57128628 0.64228644 0.29992287 0.26059832 0.22946564 0.29647417\n",
            "  0.76106263 0.56664688 0.20507711 0.07406452]\n",
            " [0.60542192 0.48284518 0.79960232 0.13541297 0.51506407 0.03516513\n",
            "  0.78644821 0.66092392 0.11513596 0.50695793]\n",
            " [0.6647865  0.0383398  0.76094013 0.682416   0.39908772 0.86929446\n",
            "  0.19299116 0.621036   0.32502597 0.26593117]\n",
            " [0.55990848 0.67392481 0.58398366 0.54988176 0.15736292 0.64400683\n",
            "  0.46532021 0.24723126 0.64320698 0.45084883]\n",
            " [0.54589803 0.59652161 0.81972048 0.93265606 0.40190245 0.30182208\n",
            "  0.99464356 0.86800134 0.20517459 0.15385105]\n",
            " [0.16748441 0.32473912 0.92590183 0.80552748 0.12834501 0.14789843\n",
            "  0.88053895 0.6524658  0.00498678 0.76262253]\n",
            " [0.85613018 0.25050798 0.52185202 0.50863213 0.91803788 0.6661611\n",
            "  0.34145724 0.52727705 0.15387918 0.00105594]\n",
            " [0.99229812 0.86610469 0.02529823 0.19835367 0.3987422  0.55326664\n",
            "  0.87457389 0.69123088 0.8445907  0.60001992]\n",
            " [0.0353522  0.4774439  0.36379623 0.60333963 0.75285594 0.73284567\n",
            "  0.81201222 0.72134571 0.44388602 0.462701  ]\n",
            " [0.42854889 0.95142339 0.92689905 0.44257375 0.82446602 0.88783324\n",
            "  0.74257883 0.86235696 0.29085699 0.49580722]]\n",
            "Minimum value: 0.0010559357695225646\n",
            "Maximum value: 0.9946435628877366\n"
          ]
        }
      ]
    },
    {
      "cell_type": "code",
      "source": [
        "# Task 6: Create a zero array of size 10 and replace 5th element with 1\n",
        "zero_array = np.zeros(10)\n",
        "zero_array[4] = 1\n",
        "print(\"\\nZero array with 5th element replaced with 1:\")\n",
        "print(zero_array)"
      ],
      "metadata": {
        "colab": {
          "base_uri": "https://localhost:8080/"
        },
        "id": "vjlqpCCDuzHY",
        "outputId": "59699af2-0770-48d1-cf35-8ae55b183d86"
      },
      "execution_count": 68,
      "outputs": [
        {
          "output_type": "stream",
          "name": "stdout",
          "text": [
            "\n",
            "Zero array with 5th element replaced with 1:\n",
            "[0. 0. 0. 0. 1. 0. 0. 0. 0. 0.]\n"
          ]
        }
      ]
    },
    {
      "cell_type": "code",
      "source": [
        "# Task 7: Reverse an array arr = [1, 2, 0, 0, 4, 0]\n",
        "arr = [1, 2, 0, 0, 4, 0]\n",
        "reversed_arr = arr[::-1]\n",
        "print(\"\\nReversed array:\")\n",
        "print(reversed_arr)"
      ],
      "metadata": {
        "colab": {
          "base_uri": "https://localhost:8080/"
        },
        "id": "qVhl3jikuzLZ",
        "outputId": "f7e84af0-7b5b-4f67-a49d-d40e780c3f18"
      },
      "execution_count": 69,
      "outputs": [
        {
          "output_type": "stream",
          "name": "stdout",
          "text": [
            "\n",
            "Reversed array:\n",
            "[0, 4, 0, 0, 2, 1]\n"
          ]
        }
      ]
    },
    {
      "cell_type": "code",
      "source": [
        "# Task 8: Create a 2D array with 1 on the border and 0 inside\n",
        "border_array = np.ones((5, 5))\n",
        "border_array[1:-1, 1:-1] = 0\n",
        "print(\"\\n2D array with 1 on the border and 0 inside:\")\n",
        "print(border_array)"
      ],
      "metadata": {
        "colab": {
          "base_uri": "https://localhost:8080/"
        },
        "id": "XeRglodzuzO4",
        "outputId": "9761df75-6249-486b-b182-cc65e79753d1"
      },
      "execution_count": 70,
      "outputs": [
        {
          "output_type": "stream",
          "name": "stdout",
          "text": [
            "\n",
            "2D array with 1 on the border and 0 inside:\n",
            "[[1. 1. 1. 1. 1.]\n",
            " [1. 0. 0. 0. 1.]\n",
            " [1. 0. 0. 0. 1.]\n",
            " [1. 0. 0. 0. 1.]\n",
            " [1. 1. 1. 1. 1.]]\n"
          ]
        }
      ]
    },
    {
      "cell_type": "code",
      "source": [
        "# Task 9: Create an 8x8 matrix and fill it with a checkerboard pattern\n",
        "checkerboard = np.zeros((8, 8), dtype=int)\n",
        "checkerboard[1::2, ::2] = 1\n",
        "checkerboard[::2, 1::2] = 1\n",
        "print(\"\\n8x8 checkerboard pattern:\")\n",
        "print(checkerboard)"
      ],
      "metadata": {
        "colab": {
          "base_uri": "https://localhost:8080/"
        },
        "id": "T95IKwp5vZnF",
        "outputId": "97004575-9402-4351-c4ce-85445ced164c"
      },
      "execution_count": 71,
      "outputs": [
        {
          "output_type": "stream",
          "name": "stdout",
          "text": [
            "\n",
            "8x8 checkerboard pattern:\n",
            "[[0 1 0 1 0 1 0 1]\n",
            " [1 0 1 0 1 0 1 0]\n",
            " [0 1 0 1 0 1 0 1]\n",
            " [1 0 1 0 1 0 1 0]\n",
            " [0 1 0 1 0 1 0 1]\n",
            " [1 0 1 0 1 0 1 0]\n",
            " [0 1 0 1 0 1 0 1]\n",
            " [1 0 1 0 1 0 1 0]]\n"
          ]
        }
      ]
    },
    {
      "cell_type": "markdown",
      "source": [
        "### Problem - 3"
      ],
      "metadata": {
        "id": "TJYqhxmiwfUK"
      }
    },
    {
      "cell_type": "code",
      "source": [
        "import numpy as np\n",
        "\n",
        "# Given arrays\n",
        "x = np.array([[1, 2], [3, 5]])\n",
        "y = np.array([[5, 6], [7, 8]])\n",
        "v = np.array([9, 10])\n",
        "w = np.array([11, 12])\n",
        "\n",
        "# Task 1: Add the two arrays\n",
        "add_arrays = x + y\n",
        "print(\"Task 1: Sum of x and y:\")\n",
        "print(add_arrays)"
      ],
      "metadata": {
        "colab": {
          "base_uri": "https://localhost:8080/"
        },
        "id": "ymlZnUI3v8Hw",
        "outputId": "29cff6ad-5994-4de5-fb4a-eef33b7141ce"
      },
      "execution_count": 80,
      "outputs": [
        {
          "output_type": "stream",
          "name": "stdout",
          "text": [
            "Task 1: Sum of x and y:\n",
            "[[ 6  8]\n",
            " [10 13]]\n"
          ]
        }
      ]
    },
    {
      "cell_type": "code",
      "source": [
        "# Task 2: Subtract the two arrays\n",
        "subtract_arrays = x - y\n",
        "print(\"\\nTask 2: Difference of x and y:\")\n",
        "print(subtract_arrays)"
      ],
      "metadata": {
        "colab": {
          "base_uri": "https://localhost:8080/"
        },
        "id": "W5dihpFJwx-k",
        "outputId": "4a3e7c22-7312-4b75-feb1-56e9b2989943"
      },
      "execution_count": 81,
      "outputs": [
        {
          "output_type": "stream",
          "name": "stdout",
          "text": [
            "\n",
            "Task 2: Difference of x and y:\n",
            "[[-4 -4]\n",
            " [-4 -3]]\n"
          ]
        }
      ]
    },
    {
      "cell_type": "code",
      "source": [
        "# Task 3: Multiply the array with any integers of your choice (let's multiply by 2)\n",
        "multiply_array = x * 2\n",
        "print(\"\\nTask 3: x multiplied by 2:\")\n",
        "print(multiply_array)"
      ],
      "metadata": {
        "colab": {
          "base_uri": "https://localhost:8080/"
        },
        "id": "Z8mBXUZkwyt0",
        "outputId": "32cdb086-94ca-49f3-f8c9-85942f34547e"
      },
      "execution_count": 82,
      "outputs": [
        {
          "output_type": "stream",
          "name": "stdout",
          "text": [
            "\n",
            "Task 3: x multiplied by 2:\n",
            "[[ 2  4]\n",
            " [ 6 10]]\n"
          ]
        }
      ]
    },
    {
      "cell_type": "code",
      "source": [
        "# Task 4: Find the square of each element of the array\n",
        "square_elements = np.square(x)\n",
        "print(\"\\nTask 4: Square of each element in x:\")\n",
        "print(square_elements)"
      ],
      "metadata": {
        "colab": {
          "base_uri": "https://localhost:8080/"
        },
        "id": "akt4fyj6w0oM",
        "outputId": "898f2649-71bb-4991-c585-c89cc01fa09f"
      },
      "execution_count": 83,
      "outputs": [
        {
          "output_type": "stream",
          "name": "stdout",
          "text": [
            "\n",
            "Task 4: Square of each element in x:\n",
            "[[ 1  4]\n",
            " [ 9 25]]\n"
          ]
        }
      ]
    },
    {
      "cell_type": "code",
      "source": [
        "# Task 5: Find the dot product between v and w, x and v, x and y\n",
        "dot_v_w = np.dot(v, w)\n",
        "dot_x_v = np.dot(x, v)\n",
        "dot_x_y = np.dot(x, y)\n",
        "\n",
        "print(\"\\nTask 5: Dot Products\")\n",
        "print(\"Dot product of v and w:\", dot_v_w)\n",
        "print(\"Dot product of x and v:\", dot_x_v)\n",
        "print(\"Dot product of x and y:\", dot_x_y)"
      ],
      "metadata": {
        "colab": {
          "base_uri": "https://localhost:8080/"
        },
        "id": "G2RkKrjFw2YS",
        "outputId": "3ddbb643-5c25-4538-d5d3-9d78b6548625"
      },
      "execution_count": 84,
      "outputs": [
        {
          "output_type": "stream",
          "name": "stdout",
          "text": [
            "\n",
            "Task 5: Dot Products\n",
            "Dot product of v and w: 219\n",
            "Dot product of x and v: [29 77]\n",
            "Dot product of x and y: [[19 22]\n",
            " [50 58]]\n"
          ]
        }
      ]
    },
    {
      "cell_type": "code",
      "source": [
        "# Task 6: Concatenate x and y along rows and concatenate v and w along columns\n",
        "concat_x_y_row = np.concatenate((x, y), axis=0)\n",
        "concat_v_w_col = np.concatenate((v.reshape(-1, 1), w.reshape(-1, 1)), axis=1)\n",
        "\n",
        "print(\"\\nTask 6: Concatenation\")\n",
        "print(\"x and y concatenated along rows:\")\n",
        "print(concat_x_y_row)\n",
        "print(\"v and w concatenated along columns:\")\n",
        "print(concat_v_w_col)"
      ],
      "metadata": {
        "colab": {
          "base_uri": "https://localhost:8080/"
        },
        "id": "XaaQRnByw4HD",
        "outputId": "3527c9ec-2962-4213-e85a-a7069d897449"
      },
      "execution_count": 85,
      "outputs": [
        {
          "output_type": "stream",
          "name": "stdout",
          "text": [
            "\n",
            "Task 6: Concatenation\n",
            "x and y concatenated along rows:\n",
            "[[1 2]\n",
            " [3 5]\n",
            " [5 6]\n",
            " [7 8]]\n",
            "v and w concatenated along columns:\n",
            "[[ 9 11]\n",
            " [10 12]]\n"
          ]
        }
      ]
    },
    {
      "cell_type": "code",
      "source": [
        "# Task 7: Concatenate x and v; if you get an error, observe and explain why\n",
        "try:\n",
        "    concat_x_v = np.concatenate((x, v), axis=0)\n",
        "    print(\"\\nTask 7: Concatenate x and v:\")\n",
        "    print(concat_x_v)\n",
        "except ValueError as e:\n",
        "    print(\"\\nTask 7 Error:\", e)"
      ],
      "metadata": {
        "colab": {
          "base_uri": "https://localhost:8080/"
        },
        "id": "X6_Lvn-Rw6HN",
        "outputId": "36babe17-4ddb-4eca-dea8-3ffeb841e05b"
      },
      "execution_count": 86,
      "outputs": [
        {
          "output_type": "stream",
          "name": "stdout",
          "text": [
            "\n",
            "Task 7 Error: all the input arrays must have same number of dimensions, but the array at index 0 has 2 dimension(s) and the array at index 1 has 1 dimension(s)\n"
          ]
        }
      ]
    },
    {
      "cell_type": "markdown",
      "source": [
        "### Problem - 4"
      ],
      "metadata": {
        "id": "-Qa45oTYxH7R"
      }
    },
    {
      "cell_type": "code",
      "source": [
        "# Given Matrices A and B\n",
        "A = np.array([[3, 4], [7, 8]])\n",
        "B = np.array([[5, 3], [2, 1]])\n",
        "\n",
        "# Task 1: A * A^(-1) = I\n",
        "A_inv = np.linalg.inv(A)\n",
        "identity_matrix = np.dot(A, A_inv)\n",
        "print(\"Task 1: A * A^(-1) = I:\")\n",
        "print(identity_matrix)"
      ],
      "metadata": {
        "colab": {
          "base_uri": "https://localhost:8080/"
        },
        "id": "0t_l1IHqw9Nb",
        "outputId": "f8ffd7ef-a19c-40c2-b276-0a5598cf269f"
      },
      "execution_count": 93,
      "outputs": [
        {
          "output_type": "stream",
          "name": "stdout",
          "text": [
            "Task 1: A * A^(-1) = I:\n",
            "[[1.00000000e+00 0.00000000e+00]\n",
            " [1.77635684e-15 1.00000000e+00]]\n"
          ]
        }
      ]
    },
    {
      "cell_type": "code",
      "source": [
        "# Task 2: AB != BA\n",
        "AB = np.dot(A, B)\n",
        "BA = np.dot(B, A)\n",
        "print(\"\\nTask 2: AB and BA:\")\n",
        "print(\"AB:\")\n",
        "print(AB)\n",
        "print(\"BA:\")\n",
        "print(BA)\n",
        "are_equal = np.array_equal(AB, BA)\n",
        "print(\"Are AB and BA equal?\", are_equal)"
      ],
      "metadata": {
        "colab": {
          "base_uri": "https://localhost:8080/"
        },
        "id": "_UBngMTfxf_6",
        "outputId": "fa2f389e-41c7-43a3-adf3-0613db726862"
      },
      "execution_count": 94,
      "outputs": [
        {
          "output_type": "stream",
          "name": "stdout",
          "text": [
            "\n",
            "Task 2: AB and BA:\n",
            "AB:\n",
            "[[23 13]\n",
            " [51 29]]\n",
            "BA:\n",
            "[[36 44]\n",
            " [13 16]]\n",
            "Are AB and BA equal? False\n"
          ]
        }
      ]
    },
    {
      "cell_type": "code",
      "source": [
        "# Task 3: (AB)^T = B^T A^T\n",
        "AB_transpose = np.transpose(AB)\n",
        "BT_AT = np.dot(np.transpose(B), np.transpose(A))\n",
        "print(\"\\nTask 3: (AB)^T and B^T A^T:\")\n",
        "print(\"Transpose of AB:\")\n",
        "print(AB_transpose)\n",
        "print(\"B^T * A^T:\")\n",
        "print(BT_AT)\n",
        "are_equal_transposes = np.array_equal(AB_transpose, BT_AT)\n",
        "print(\"Are (AB)^T and B^T * A^T equal?\", are_equal_transposes)"
      ],
      "metadata": {
        "colab": {
          "base_uri": "https://localhost:8080/"
        },
        "id": "J2OEL-sZxgnX",
        "outputId": "f664306e-e07c-40bd-bcd3-475cf199e1d0"
      },
      "execution_count": 95,
      "outputs": [
        {
          "output_type": "stream",
          "name": "stdout",
          "text": [
            "\n",
            "Task 3: (AB)^T and B^T A^T:\n",
            "Transpose of AB:\n",
            "[[23 51]\n",
            " [13 29]]\n",
            "B^T * A^T:\n",
            "[[23 51]\n",
            " [13 29]]\n",
            "Are (AB)^T and B^T * A^T equal? True\n"
          ]
        }
      ]
    },
    {
      "cell_type": "code",
      "source": [
        "# Task 4: Solve the system of Linear equations using Inverse Method\n",
        "A_matrix = np.array([[2, -3, 1], [1, -1, 2], [3, 1, -1]])\n",
        "B_vector = np.array([-1, -3, 9])\n",
        "\n",
        "A_inv = np.linalg.inv(A_matrix)\n",
        "X = np.dot(A_inv, B_vector)\n",
        "print(\"\\nTask 4: Solving Linear Equation System using Inverse Method:\")\n",
        "print(\"Solution (x, y, z):\")\n",
        "print(X)"
      ],
      "metadata": {
        "colab": {
          "base_uri": "https://localhost:8080/"
        },
        "id": "oJx1CQLUxi2Q",
        "outputId": "23da1d24-d8ab-4cf6-f674-e42ed333ecfa"
      },
      "execution_count": 96,
      "outputs": [
        {
          "output_type": "stream",
          "name": "stdout",
          "text": [
            "\n",
            "Task 4: Solving Linear Equation System using Inverse Method:\n",
            "Solution (x, y, z):\n",
            "[ 2.  1. -2.]\n"
          ]
        }
      ]
    },
    {
      "cell_type": "code",
      "source": [
        "# Task 5: Solve the system of Linear equations using np.linalg.inv()\n",
        "X_solution = np.linalg.inv(A_matrix).dot(B_vector)\n",
        "print(\"\\nTask 5: Solve using np.linalg.inv:\")\n",
        "print(\"Solution (x, y, z):\")\n",
        "print(X_solution)"
      ],
      "metadata": {
        "colab": {
          "base_uri": "https://localhost:8080/"
        },
        "id": "czkHq6nqxkmW",
        "outputId": "b644b7f5-e234-483d-8a5d-2581292b46e7"
      },
      "execution_count": 97,
      "outputs": [
        {
          "output_type": "stream",
          "name": "stdout",
          "text": [
            "\n",
            "Task 5: Solve using np.linalg.inv:\n",
            "Solution (x, y, z):\n",
            "[ 2.  1. -2.]\n"
          ]
        }
      ]
    },
    {
      "cell_type": "markdown",
      "source": [
        "## 10.2"
      ],
      "metadata": {
        "id": "PY5vmXoLxv_u"
      }
    },
    {
      "cell_type": "code",
      "source": [
        "import time\n",
        "import numpy as np\n",
        "\n",
        "# Define the size\n",
        "size = 1000000\n",
        "matrix_size = 1000\n",
        "\n",
        "# 1. Element-wise Addition\n",
        "\n",
        "# Using Python lists\n",
        "list1 = [i for i in range(size)]\n",
        "list2 = [i for i in range(size)]\n",
        "\n",
        "start_time = time.time()\n",
        "list_add = [list1[i] + list2[i] for i in range(size)]\n",
        "python_list_add_time = time.time() - start_time\n",
        "print(f\"Element-wise addition using Python lists took: {python_list_add_time:.6f} seconds.\")\n",
        "\n",
        "# Using Numpy arrays\n",
        "np_array1 = np.arange(size)\n",
        "np_array2 = np.arange(size)\n",
        "\n",
        "start_time = time.time()\n",
        "np_array_add = np_array1 + np_array2\n",
        "numpy_array_add_time = time.time() - start_time\n",
        "print(f\"Element-wise addition using NumPy arrays took: {numpy_array_add_time:.6f} seconds.\")"
      ],
      "metadata": {
        "colab": {
          "base_uri": "https://localhost:8080/"
        },
        "id": "Bt4aYS7UxnNd",
        "outputId": "497d734b-5626-4395-cf2d-3c890546e021"
      },
      "execution_count": 102,
      "outputs": [
        {
          "output_type": "stream",
          "name": "stdout",
          "text": [
            "Element-wise addition using Python lists took: 0.117682 seconds.\n",
            "Element-wise addition using NumPy arrays took: 0.001897 seconds.\n"
          ]
        }
      ]
    },
    {
      "cell_type": "code",
      "source": [
        "# 2. Element-wise Multiplication\n",
        "\n",
        "# Using Python lists\n",
        "start_time = time.time()\n",
        "list_mul = [list1[i] * list2[i] for i in range(size)]\n",
        "python_list_mul_time = time.time() - start_time\n",
        "print(f\"Element-wise multiplication using Python lists took: {python_list_mul_time:.6f} seconds.\")\n",
        "\n",
        "# Using Numpy arrays\n",
        "start_time = time.time()\n",
        "np_array_mul = np_array1 * np_array2\n",
        "numpy_array_mul_time = time.time() - start_time\n",
        "print(f\"Element-wise multiplication using NumPy arrays took: {numpy_array_mul_time:.6f} seconds.\")"
      ],
      "metadata": {
        "colab": {
          "base_uri": "https://localhost:8080/"
        },
        "id": "ps-ZZI3CzF5T",
        "outputId": "891edadc-22bb-4daa-d07c-214945580401"
      },
      "execution_count": 99,
      "outputs": [
        {
          "output_type": "stream",
          "name": "stdout",
          "text": [
            "Element-wise multiplication using Python lists took: 0.174980 seconds.\n",
            "Element-wise multiplication using NumPy arrays took: 0.007491 seconds.\n"
          ]
        }
      ]
    },
    {
      "cell_type": "code",
      "source": [
        "# 3. Dot Product\n",
        "\n",
        "# Using Python lists\n",
        "start_time = time.time()\n",
        "dot_product_python = sum(list1[i] * list2[i] for i in range(size))\n",
        "python_dot_product_time = time.time() - start_time\n",
        "print(f\"Dot product using Python lists took: {python_dot_product_time:.6f} seconds.\")\n",
        "\n",
        "# Using Numpy arrays\n",
        "start_time = time.time()\n",
        "np_dot_product = np.dot(np_array1, np_array2)\n",
        "numpy_dot_product_time = time.time() - start_time\n",
        "print(f\"Dot product using NumPy arrays took: {numpy_dot_product_time:.6f} seconds.\")"
      ],
      "metadata": {
        "colab": {
          "base_uri": "https://localhost:8080/"
        },
        "id": "qAU_f64vzGdx",
        "outputId": "58ae09c6-039f-4891-f753-348b5d189ecf"
      },
      "execution_count": 100,
      "outputs": [
        {
          "output_type": "stream",
          "name": "stdout",
          "text": [
            "Dot product using Python lists took: 0.059879 seconds.\n",
            "Dot product using NumPy arrays took: 0.000973 seconds.\n"
          ]
        }
      ]
    },
    {
      "cell_type": "code",
      "source": [
        "# 4. Matrix Multiplication\n",
        "\n",
        "# Using Python lists\n",
        "matrix1 = [[i+j for j in range(matrix_size)] for i in range(matrix_size)]\n",
        "matrix2 = [[i-j for j in range(matrix_size)] for i in range(matrix_size)]\n",
        "\n",
        "start_time = time.time()\n",
        "matrix_mul_python = [[sum(matrix1[i][k] * matrix2[k][j] for k in range(matrix_size)) for j in range(matrix_size)] for i in range(matrix_size)]\n",
        "python_matrix_mul_time = time.time() - start_time\n",
        "print(f\"Matrix multiplication using Python lists took: {python_matrix_mul_time:.6f} seconds.\")\n",
        "\n",
        "# Using Numpy arrays\n",
        "np_matrix1 = np.random.rand(matrix_size, matrix_size)\n",
        "np_matrix2 = np.random.rand(matrix_size, matrix_size)\n",
        "\n",
        "start_time = time.time()\n",
        "matrix_mul_numpy = np.dot(np_matrix1, np_matrix2)\n",
        "numpy_matrix_mul_time = time.time() - start_time\n",
        "print(f\"Matrix multiplication using NumPy arrays took: {numpy_matrix_mul_time:.6f} seconds.\")"
      ],
      "metadata": {
        "colab": {
          "base_uri": "https://localhost:8080/"
        },
        "id": "e5FjcbI0zIcp",
        "outputId": "1150d9a9-5a03-4df4-e5ae-5a0bf55db7c2"
      },
      "execution_count": 101,
      "outputs": [
        {
          "output_type": "stream",
          "name": "stdout",
          "text": [
            "Matrix multiplication using Python lists took: 131.329796 seconds.\n",
            "Matrix multiplication using NumPy arrays took: 0.047067 seconds.\n"
          ]
        }
      ]
    },
    {
      "cell_type": "code",
      "source": [],
      "metadata": {
        "id": "4Fp0GkEazK5k"
      },
      "execution_count": null,
      "outputs": []
    }
  ]
}